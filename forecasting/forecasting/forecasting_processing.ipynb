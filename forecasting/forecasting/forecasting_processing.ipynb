{
 "cells": [
  {
   "cell_type": "markdown",
   "metadata": {},
   "source": [
    "### Forcasting Data processing"
   ]
  },
  {
   "cell_type": "code",
   "execution_count": 12,
   "metadata": {},
   "outputs": [],
   "source": [
    "import pandas as pd \n",
    "import matplotlib.pyplot as plt \n",
    "import seaborn as sns \n",
    "import numpy as np \n",
    "import os\n",
    "import glob\n",
    "import csv\n",
    "%matplotlib inline "
   ]
  },
  {
   "cell_type": "markdown",
   "metadata": {},
   "source": [
    "<b> 1. Combining all the csv files from January to November 2020 </b>"
   ]
  },
  {
   "cell_type": "markdown",
   "metadata": {},
   "source": [
    "Here below, 11 csv files are combined, with a total of 218735 rows × 13 columns. The data set starts the 1st january and ands the 27th November 2020"
   ]
  },
  {
   "cell_type": "code",
   "execution_count": 13,
   "metadata": {},
   "outputs": [],
   "source": [
    "#data path specification with all the desired csv data\n",
    "data_path = r'C:\\Users\\Caleb\\OneDrive - University of Edinburgh\\Methodology & Consulting\\Group Project\\forecasting\\data'\n",
    "os.chdir(data_path)\n",
    "\n",
    "#the following function combines the csv files in the desired folder for various time periods\n",
    "#def csv_processing(data_path):\n",
    "\n",
    "#combining all the csv files: matching the extension\n",
    "extension_file = 'csv'\n",
    "all_filenames = [i for i in glob.glob('*.{}'.format(extension_file))]\n",
    "\n",
    "#combine all files in the list\n",
    "data2020_csv = pd.concat([pd.read_csv(f) for f in all_filenames ])\n",
    "\n",
    "#export to csv names 'data2020'\n",
    "data2020_csv.to_csv( \"data2020.csv\", index=False, encoding='utf-8-sig')\n",
    "\n",
    "#Loading the new csv file \n",
    "path = r'data2020.csv'\n",
    "data2020 = pd.read_csv(path)\n"
   ]
  },
  {
   "cell_type": "markdown",
   "metadata": {},
   "source": [
    "<b>2. Demand and Supply data per each station and hour </b>"
   ]
  },
  {
   "cell_type": "code",
   "execution_count": 14,
   "metadata": {},
   "outputs": [
    {
     "data": {
      "text/html": [
       "<div>\n",
       "<style scoped>\n",
       "    .dataframe tbody tr th:only-of-type {\n",
       "        vertical-align: middle;\n",
       "    }\n",
       "\n",
       "    .dataframe tbody tr th {\n",
       "        vertical-align: top;\n",
       "    }\n",
       "\n",
       "    .dataframe thead th {\n",
       "        text-align: right;\n",
       "    }\n",
       "</style>\n",
       "<table border=\"1\" class=\"dataframe\">\n",
       "  <thead>\n",
       "    <tr style=\"text-align: right;\">\n",
       "      <th></th>\n",
       "      <th>started_at</th>\n",
       "      <th>ended_at</th>\n",
       "      <th>duration</th>\n",
       "      <th>start_station_id</th>\n",
       "      <th>start_station_name</th>\n",
       "      <th>start_station_description</th>\n",
       "      <th>start_station_latitude</th>\n",
       "      <th>start_station_longitude</th>\n",
       "      <th>end_station_id</th>\n",
       "      <th>end_station_name</th>\n",
       "      <th>end_station_description</th>\n",
       "      <th>end_station_latitude</th>\n",
       "      <th>end_station_longitude</th>\n",
       "    </tr>\n",
       "  </thead>\n",
       "  <tbody>\n",
       "    <tr>\n",
       "      <th>0</th>\n",
       "      <td>2020-01-01 00:11:49.789000+00:00</td>\n",
       "      <td>2020-01-01 00:32:37.402000+00:00</td>\n",
       "      <td>1247</td>\n",
       "      <td>1738</td>\n",
       "      <td>Wester Coates Terrace</td>\n",
       "      <td>Junction with Roseburn Terrace</td>\n",
       "      <td>55.945648</td>\n",
       "      <td>-3.231847</td>\n",
       "      <td>1725</td>\n",
       "      <td>Edinburgh Zoo</td>\n",
       "      <td>Corstorphine Road, Edinburgh</td>\n",
       "      <td>55.942115</td>\n",
       "      <td>-3.269287</td>\n",
       "    </tr>\n",
       "    <tr>\n",
       "      <th>1</th>\n",
       "      <td>2020-01-01 00:15:47.185000+00:00</td>\n",
       "      <td>2020-01-01 00:24:48.541000+00:00</td>\n",
       "      <td>541</td>\n",
       "      <td>1024</td>\n",
       "      <td>Meadow Place</td>\n",
       "      <td>End of Meadow Place</td>\n",
       "      <td>55.940238</td>\n",
       "      <td>-3.194640</td>\n",
       "      <td>265</td>\n",
       "      <td>Meadows East</td>\n",
       "      <td>Between Melville Terrace and Sciennes</td>\n",
       "      <td>55.939809</td>\n",
       "      <td>-3.182739</td>\n",
       "    </tr>\n",
       "    <tr>\n",
       "      <th>2</th>\n",
       "      <td>2020-01-01 00:21:32.841000+00:00</td>\n",
       "      <td>2020-01-01 01:02:45.899000+00:00</td>\n",
       "      <td>2473</td>\n",
       "      <td>256</td>\n",
       "      <td>St Andrews House</td>\n",
       "      <td>beside Jacobs ladder</td>\n",
       "      <td>55.953164</td>\n",
       "      <td>-3.181682</td>\n",
       "      <td>259</td>\n",
       "      <td>St Andrew Square</td>\n",
       "      <td>North East corner</td>\n",
       "      <td>55.954906</td>\n",
       "      <td>-3.192444</td>\n",
       "    </tr>\n",
       "  </tbody>\n",
       "</table>\n",
       "</div>"
      ],
      "text/plain": [
       "                         started_at                          ended_at  \\\n",
       "0  2020-01-01 00:11:49.789000+00:00  2020-01-01 00:32:37.402000+00:00   \n",
       "1  2020-01-01 00:15:47.185000+00:00  2020-01-01 00:24:48.541000+00:00   \n",
       "2  2020-01-01 00:21:32.841000+00:00  2020-01-01 01:02:45.899000+00:00   \n",
       "\n",
       "   duration  start_station_id     start_station_name  \\\n",
       "0      1247              1738  Wester Coates Terrace   \n",
       "1       541              1024           Meadow Place   \n",
       "2      2473               256       St Andrews House   \n",
       "\n",
       "        start_station_description  start_station_latitude  \\\n",
       "0  Junction with Roseburn Terrace               55.945648   \n",
       "1             End of Meadow Place               55.940238   \n",
       "2            beside Jacobs ladder               55.953164   \n",
       "\n",
       "   start_station_longitude  end_station_id  end_station_name  \\\n",
       "0                -3.231847            1725     Edinburgh Zoo   \n",
       "1                -3.194640             265      Meadows East   \n",
       "2                -3.181682             259  St Andrew Square   \n",
       "\n",
       "                 end_station_description  end_station_latitude  \\\n",
       "0           Corstorphine Road, Edinburgh             55.942115   \n",
       "1  Between Melville Terrace and Sciennes             55.939809   \n",
       "2                      North East corner             55.954906   \n",
       "\n",
       "   end_station_longitude  \n",
       "0              -3.269287  \n",
       "1              -3.182739  \n",
       "2              -3.192444  "
      ]
     },
     "execution_count": 14,
     "metadata": {},
     "output_type": "execute_result"
    }
   ],
   "source": [
    "data2020.head(3)"
   ]
  },
  {
   "cell_type": "code",
   "execution_count": 15,
   "metadata": {},
   "outputs": [
    {
     "data": {
      "text/plain": [
       "(                           start_station_name  count_demand\n",
       " ds                                                         \n",
       " 2020-01-01 00:00:00              Meadow Place             1\n",
       " 2020-01-01 00:00:00          St Andrews House             3\n",
       " 2020-01-01 00:00:00     Wester Coates Terrace             1\n",
       " 2020-01-01 00:00:00  Western General Hospital             1\n",
       " 2020-01-01 01:00:00           Brunswick Place             1\n",
       " ...                                       ...           ...\n",
       " 2020-11-27 22:00:00               Stockbridge             1\n",
       " 2020-11-27 22:00:00                 Tollcross             1\n",
       " 2020-11-27 23:00:00            Dundee Terrace             1\n",
       " 2020-11-27 23:00:00              Meadows East             2\n",
       " 2020-11-27 23:00:00                 Tollcross             1\n",
       " \n",
       " [128583 rows x 2 columns],\n",
       "                               end_station_name  count_supply\n",
       " ds                                                          \n",
       " 2020-01-01 00:00:00              Edinburgh Zoo             1\n",
       " 2020-01-01 00:00:00               Meadows East             1\n",
       " 2020-01-01 00:00:00           St Andrews House             1\n",
       " 2020-01-01 01:00:00            Dalry Road Lidl             2\n",
       " 2020-01-01 01:00:00             Dudley Gardens             1\n",
       " ...                                        ...           ...\n",
       " 2020-11-27 23:00:00         East London Street             1\n",
       " 2020-11-27 23:00:00           Leith Walk North             1\n",
       " 2020-11-27 23:00:00  Queen Margaret University             2\n",
       " 2020-11-27 23:00:00                Stockbridge             1\n",
       " 2020-11-27 23:00:00              Victoria Quay             1\n",
       " \n",
       " [127157 rows x 2 columns])"
      ]
     },
     "execution_count": 15,
     "metadata": {},
     "output_type": "execute_result"
    }
   ],
   "source": [
    "\n",
    "def counted_demand_supply():\n",
    "    \n",
    "    #demand processing: dropping columns, 'ended_at' differs \n",
    "    find_demand = data2020.drop(['ended_at', 'duration','start_station_id','start_station_description','start_station_latitude','start_station_longitude',\n",
    "                                     'end_station_id','end_station_description','end_station_latitude','end_station_longitude' ], axis=1)\n",
    "\n",
    "    #supply processing: dropping colums, 'started_at' differs\n",
    "    find_supply= data2020.drop(['started_at','duration','start_station_id','start_station_description','start_station_latitude','start_station_longitude','end_station_id',\n",
    "                                    'end_station_description', 'end_station_latitude','end_station_longitude' ], axis=1)\n",
    "\n",
    "    #ds ll be used as DateTime parameter & index and the old started_at replaced\n",
    "    find_demand['ds'] = pd.to_datetime(find_demand['started_at'])\n",
    "\n",
    "\n",
    "    #ds will be used as DateTime parameter & index and the old ended_at replaced\n",
    "    find_supply['ds'] =pd.to_datetime(find_supply['ended_at'])\n",
    "\n",
    "\n",
    "    #the previous started_at and ended_at will be dropped \n",
    "    find_demand = find_demand.drop(['started_at'],axis =1)\n",
    "    find_supply = find_supply.drop(['ended_at'], axis =1)\n",
    "\n",
    "    #counting demand per hour \n",
    "    counted_demand = find_demand.groupby([pd.Grouper(key='ds',freq='H'),find_demand.start_station_name]).size().reset_index(name='count_demand')\n",
    "    counted_demand = counted_demand.set_index('ds').tz_localize(None)\n",
    "\n",
    "\n",
    "    #counting supply per hour \n",
    "    counted_supply = find_supply.groupby([pd.Grouper(key='ds',freq='H'),find_supply.end_station_name]).size().reset_index(name='count_supply')\n",
    "    counted_supply = counted_supply.set_index('ds').tz_localize(None)\n",
    "    \n",
    "    #saving the outputs in csv \n",
    "    counted_demand.to_csv( \"counted_demand.csv\", encoding='utf-8-sig')\n",
    "    counted_supply.to_csv( \"counted_supply.csv\", encoding='utf-8-sig')\n",
    "    \n",
    "    return counted_demand, counted_supply\n",
    "\n",
    "counted_demand_supply()\n",
    "\n"
   ]
  },
  {
   "cell_type": "code",
   "execution_count": null,
   "metadata": {},
   "outputs": [],
   "source": []
  }
 ],
 "metadata": {
  "kernelspec": {
   "display_name": "Python 3",
   "language": "python",
   "name": "python3"
  },
  "language_info": {
   "codemirror_mode": {
    "name": "ipython",
    "version": 3
   },
   "file_extension": ".py",
   "mimetype": "text/x-python",
   "name": "python",
   "nbconvert_exporter": "python",
   "pygments_lexer": "ipython3",
   "version": "3.8.3"
  }
 },
 "nbformat": 4,
 "nbformat_minor": 4
}
